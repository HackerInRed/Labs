{
 "cells": [
  {
   "cell_type": "markdown",
   "id": "adc28ecc",
   "metadata": {},
   "source": [
    "### SET-1\n",
    "1. **Develop a model on Analysis of Variance (ANOVA) and table for the given data:**\n"
   ]
  },
  {
   "cell_type": "code",
   "execution_count": null,
   "id": "0836a07b",
   "metadata": {},
   "outputs": [],
   "source": [
    "import seaborn as sns\n",
    "from scipy.stats import f_oneway\n",
    "tips = sns.load_dataset('tips')\n",
    "\n",
    "total_bills = tips.groupby('day')['total_bill'].apply(list)\n",
    "f, p = f_oneway(*total_bills)\n",
    "\n",
    "print(f'F-value: {f}')\n",
    "print(f'p-value: {p}')\n"
   ]
  },
  {
   "cell_type": "markdown",
   "id": "4e44f4ec",
   "metadata": {},
   "source": [
    "\n",
    "\n",
    "### SET-2\n",
    "1. **Calculating the skewness of a data set by Pandas and SciPy:**\n"
   ]
  },
  {
   "cell_type": "code",
   "execution_count": null,
   "id": "2f0f66e2",
   "metadata": {},
   "outputs": [],
   "source": [
    "import pandas as pd \n",
    "from scipy.stats import skew \n",
    "data = sns.load_dataset('tips')\n",
    "\n",
    "sp = data['total_bill'].skew()\n",
    "ss = skew(data['total_bill'])\n",
    "\n",
    "print(f'Skewness (Pandas): {sp}')\n",
    "print(f'Skewness (SciPy): {ss}')\n"
   ]
  },
  {
   "cell_type": "markdown",
   "id": "62ac11e7",
   "metadata": {},
   "source": [
    "\n",
    "\n",
    "2. **Develop a Linear Regression model for the given data:**\n"
   ]
  },
  {
   "cell_type": "code",
   "execution_count": null,
   "id": "0dd4eec3",
   "metadata": {},
   "outputs": [],
   "source": [
    "import seaborn as sns\n",
    "from sklearn.linear_model import LinearRegression\n",
    "from sklearn.model_selection import train_test_split\n",
    "\n",
    "data = sns.load_dataset('tips')\n",
    "\n",
    "X = data[['total_bill', 'size']]\n",
    "y = data['tip']\n",
    "\n",
    "X_train, X_test, y_train, y_test = train_test_split(X, y, test_size=0.2, random_state=42)\n",
    "\n",
    "model = LinearRegression().fit(X_train, y_train)\n",
    "\n",
    "print(\"Model Score:\", model.score(X_test, y_test))\n"
   ]
  },
  {
   "cell_type": "markdown",
   "id": "8bb8886e",
   "metadata": {},
   "source": [
    "\n",
    "\n",
    "### SET-3\n",
    "1. **Design a model to calculate Percentile by SciPy and Stats Models:**\n"
   ]
  },
  {
   "cell_type": "code",
   "execution_count": null,
   "id": "de22fa21",
   "metadata": {},
   "outputs": [],
   "source": [
    "import numpy as np\n",
    "from scipy.stats import scoreatpercentile\n",
    "\n",
    "d = np.random.randn(100)\n",
    "p_scipy = scoreatpercentile(d, 95)\n",
    "p_statsmodels = np.percentile(d, 95)\n",
    "p_scipy, p_statsmodels\n"
   ]
  },
  {
   "cell_type": "markdown",
   "id": "080a873d",
   "metadata": {},
   "source": [
    "\n",
    "\n",
    "2. **Develop a Linear Regression model for the given data:**\n"
   ]
  },
  {
   "cell_type": "code",
   "execution_count": null,
   "id": "e9a787f1",
   "metadata": {},
   "outputs": [],
   "source": [
    "import seaborn as sns\n",
    "from sklearn.linear_model import LinearRegression\n",
    "from sklearn.model_selection import train_test_split\n",
    "\n",
    "data = sns.load_dataset('tips')\n",
    "\n",
    "X = data.drop('total_bill', axis=1).select_dtypes(include='number')\n",
    "y = data['total_bill']\n",
    "\n",
    "X_train, X_test, y_train, y_test = train_test_split(X, y, test_size=0.2, random_state=42)\n",
    "\n",
    "model = LinearRegression()\n",
    "model.fit(X_train, y_train)\n",
    "\n",
    "score = model.score(X_test, y_test)\n",
    "print(f'Model Score: {score}')\n"
   ]
  },
  {
   "cell_type": "markdown",
   "id": "9f21c8ae",
   "metadata": {},
   "source": [
    "\n",
    "\n",
    "### SET-4\n",
    "1. **Develop a model to find the variance and standard deviation of univariate statistics measures by using Pandas:**\n"
   ]
  },
  {
   "cell_type": "code",
   "execution_count": null,
   "id": "968ff0e2",
   "metadata": {},
   "outputs": [],
   "source": [
    "import pandas as pd \n",
    "import seaborn as sns\n",
    "\n",
    "data = sns.load_dataset('tips')\n",
    "variance = data['total_bill'].var() \n",
    "std_dev = data['total_bill'].std() \n",
    "\n",
    "print(f'Variance: {variance:.2f}') \n",
    "print(f'Standard Deviation: {std_dev:.2f}')\n"
   ]
  },
  {
   "cell_type": "markdown",
   "id": "996a78b9",
   "metadata": {},
   "source": [
    "\n",
    "\n",
    "### SET-6\n",
    "1. **Develop a model to measure covariance matrix, correlation matrix, and heat map of the given data set:**\n"
   ]
  },
  {
   "cell_type": "code",
   "execution_count": null,
   "id": "188bd2e5",
   "metadata": {},
   "outputs": [],
   "source": [
    "import pandas as pd \n",
    "import seaborn as sns \n",
    "import matplotlib.pyplot as plt \n",
    "\n",
    "data = sns.load_dataset('tips')\n",
    "\n",
    "cov_matrix = data.cov() \n",
    "print('Covariance Matrix:\\n', cov_matrix) \n",
    "\n",
    "corr_matrix = data.corr() \n",
    "print('Correlation Matrix:\\n', corr_matrix) \n",
    "\n",
    "sns.heatmap(corr_matrix, annot=True)\n",
    "plt.show()\n"
   ]
  },
  {
   "cell_type": "markdown",
   "id": "46562433",
   "metadata": {},
   "source": [
    "\n",
    "\n",
    "### SET-7\n",
    "1. **Develop a model on Analysis of Variance (ANOVA) and table for the given data:**\n"
   ]
  },
  {
   "cell_type": "code",
   "execution_count": null,
   "id": "78ab8451",
   "metadata": {},
   "outputs": [],
   "source": [
    "import seaborn as sns\n",
    "from scipy.stats import f_oneway\n",
    "tips = sns.load_dataset('tips')\n",
    "\n",
    "total_bills = tips.groupby('day')['total_bill'].apply(list)\n",
    "f, p = f_oneway(*total_bills)\n",
    "\n",
    "print(f'F-value: {f}')\n",
    "print(f'p-value: {p}')\n"
   ]
  },
  {
   "cell_type": "markdown",
   "id": "fa032d08",
   "metadata": {},
   "source": [
    "\n",
    "\n",
    "### SET-8\n",
    "1. **Calculating the skewness of a data set by Pandas and SciPy:**\n"
   ]
  },
  {
   "cell_type": "code",
   "execution_count": null,
   "id": "d0b427f4",
   "metadata": {},
   "outputs": [],
   "source": [
    "import pandas as pd \n",
    "from scipy.stats import skew \n",
    "data = sns.load_dataset('tips')\n",
    "\n",
    "sp = data['total_bill'].skew()\n",
    "ss = skew(data['total_bill'])\n",
    "\n",
    "print(f'Skewness (Pandas): {sp}')\n",
    "print(f'Skewness (SciPy): {ss}')\n"
   ]
  },
  {
   "cell_type": "markdown",
   "id": "554ab5c8",
   "metadata": {},
   "source": [
    "\n",
    "\n",
    "### SET-9\n",
    "1. **Design a model to calculate Percentile by SciPy and Stats Models:**\n"
   ]
  },
  {
   "cell_type": "code",
   "execution_count": null,
   "id": "d7b163dd",
   "metadata": {},
   "outputs": [],
   "source": [
    "import numpy as np\n",
    "from scipy.stats import scoreatpercentile\n",
    "\n",
    "d = np.random.randn(100)\n",
    "p_scipy = scoreatpercentile(d, 95)\n",
    "p_statsmodels = np.percentile(d, 95)\n",
    "p_scipy, p_statsmodels\n"
   ]
  },
  {
   "cell_type": "markdown",
   "id": "8c10ccc7",
   "metadata": {},
   "source": [
    "\n",
    "\n",
    "### SET-10\n",
    "1. **Develop a model to find the variance and standard deviation of univariate statistics measures by using Pandas:**\n"
   ]
  },
  {
   "cell_type": "code",
   "execution_count": null,
   "id": "e7c2303b",
   "metadata": {},
   "outputs": [],
   "source": [
    "import pandas as pd \n",
    "import seaborn as sns\n",
    "\n",
    "data = sns.load_dataset('tips')\n",
    "variance = data['total_bill'].var() \n",
    "std_dev = data['total_bill'].std() \n",
    "\n",
    "print(f'Variance: {variance:.2f}') \n",
    "print(f'Standard Deviation: {std_dev:.2f}')\n"
   ]
  },
  {
   "cell_type": "markdown",
   "id": "06425145",
   "metadata": {},
   "source": [
    "\n",
    "\n",
    "### SET-11\n",
    "1. **Demo on Bivariate and Multivariate Descriptive Statistics measures:**\n"
   ]
  },
  {
   "cell_type": "code",
   "execution_count": null,
   "id": "63478357",
   "metadata": {},
   "outputs": [],
   "source": [
    "import pandas as pd\n",
    "import seaborn as sns\n",
    "\n",
    "data = sns.load_dataset('tips')\n",
    "correlations = data.corr()\n",
    "desc_stats = data.describe()\n",
    "\n",
    "print(\"Bivariate Correlations:\\n\", correlations, \"\\n\")\n",
    "print(\"Multivariate Descriptive Statistics:\\n\", desc_stats)\n"
   ]
  },
  {
   "cell_type": "markdown",
   "id": "a3e283da",
   "metadata": {},
   "source": [
    "\n",
    "\n",
    "### SET-12\n",
    "1. **Develop a model to measure covariance matrix, correlation matrix, and heat map of the given data set:**\n"
   ]
  },
  {
   "cell_type": "code",
   "execution_count": null,
   "id": "81ac4334",
   "metadata": {},
   "outputs": [],
   "source": [
    "import pandas as pd \n",
    "import seaborn as sns \n",
    "import matplotlib.pyplot as plt \n",
    "\n",
    "data = sns.load_dataset('tips')\n",
    "\n",
    "cov_matrix = data.cov() \n",
    "print('Covariance Matrix:\\n', cov_matrix) \n",
    "\n",
    "corr_matrix = data.corr() \n",
    "print('Correlation Matrix:\\n', corr_matrix) \n",
    "\n",
    "sns.heatmap(corr_matrix, annot=True)\n",
    "plt.show()\n"
   ]
  },
  {
   "cell_type": "markdown",
   "id": "57628e81",
   "metadata": {},
   "source": [
    "\n"
   ]
  }
 ],
 "metadata": {},
 "nbformat": 4,
 "nbformat_minor": 5
}
