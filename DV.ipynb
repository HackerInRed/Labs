{
 "cells": [
  {
   "cell_type": "markdown",
   "metadata": {},
   "source": [
    "1. **Examine the “mtcars” dataset using `head` and `summary` functions**"
   ]
  },
  {
   "cell_type": "code",
   "execution_count": null,
   "metadata": {},
   "outputs": [],
   "source": [
    "data(mtcars)\n",
    "head(mtcars)\n",
    "summary(mtcars)"
   ]
  },
  {
   "cell_type": "markdown",
   "metadata": {},
   "source": [
    "**Attributes and types:**\n",
    "- Nominal: cyl, vs, am, gear, carb\n",
    "- Discrete: cyl, gear, carb\n",
    "- Continuous: mpg, disp, hp, drat, wt, qsec"
   ]
  },
  {
   "cell_type": "markdown",
   "metadata": {},
   "source": [
    "2. **Create a scatter plot of Sepal.Length and Petal.Length from the iris dataset**"
   ]
  },
  {
   "cell_type": "code",
   "execution_count": null,
   "metadata": {},
   "outputs": [],
   "source": [
    "data(iris)\n",
    "plot(iris$Sepal.Length, col=\"r\", xlab=\"Index\", ylab=\"Length\", main=\"Sepal and Petal Lengths\")\n",
    "points(iris$Petal.Length, col=\"b\")\n",
    "legend(\"bottom\", legend=c(\"Sepal.Length\", \"Petal.Length\"), col=c(\"r\",\"b\"), pch=1)"
   ]
  },
  {
   "cell_type": "markdown",
   "metadata": {},
   "source": [
    "3. **Calculate average mpg by cyl and absolute difference in horsepower**"
   ]
  },
  {
   "cell_type": "code",
   "execution_count": null,
   "metadata": {},
   "outputs": [],
   "source": [
    "a<-aggregate(mpg~cyl, data=mtcars, FUN=mean)\n",
    "print(a)\n",
    "b<-mean(mtcars$hp[mtcars$cyl==4])\n",
    "c<-mean(mtcars$hp[mtcars$cyl==8])\n",
    "d<-abs(b-c)\n",
    "print(d)"
   ]
  },
  {
   "cell_type": "markdown",
   "metadata": {},
   "source": [
    "4. **Create different types of vectors**"
   ]
  },
  {
   "cell_type": "code",
   "execution_count": null,
   "metadata": {},
   "outputs": [],
   "source": [
    "a<-c(1,2,3,4,5)\n",
    "print(a)\n",
    "b<-c(\"a\",\"b\",\"c\",\"d\",\"e\")\n",
    "print(b)\n",
    "c<-c(T,F,T,F,T)\n",
    "print(c)"
   ]
  },
  {
   "cell_type": "markdown",
   "metadata": {},
   "source": [
    "5. **Create a data frame with three columns**"
   ]
  },
  {
   "cell_type": "code",
   "execution_count": null,
   "metadata": {},
   "outputs": [],
   "source": [
    "a<-data.frame(name=c(\"John\",\"Jane\",\"Doe\"), age=c(25,30,22), is_student=c(T,F,T))\n",
    "print(a)"
   ]
  },
  {
   "cell_type": "markdown",
   "metadata": {},
   "source": [
    "6. **Create a scatter plot of mpg vs hp using base plotting system**"
   ]
  },
  {
   "cell_type": "code",
   "execution_count": null,
   "metadata": {},
   "outputs": [],
   "source": [
    "plot(mtcars$mpg, mtcars$hp, xlab=\"Miles per Gallon\", ylab=\"Horsepower\", main=\"mpg vs hp\")"
   ]
  },
  {
   "cell_type": "markdown",
   "metadata": {},
   "source": [
    "7. **Create a simple ggplot2 scatter plot of mpg vs hp**"
   ]
  },
  {
   "cell_type": "code",
   "execution_count": null,
   "metadata": {},
   "outputs": [],
   "source": [
    "library(ggplot2)\n",
    "ggplot(mtcars, aes(x=mpg, y=hp)) + geom_point() + labs(title=\"mpg vs hp\", x=\"Miles per Gallon\", y=\"Horsepower\")"
   ]
  },
  {
   "cell_type": "markdown",
   "metadata": {},
   "source": [
    "8. **Plot a histogram of mpg using base plotting system and ggplot2**"
   ]
  },
  {
   "cell_type": "code",
   "execution_count": null,
   "metadata": {},
   "outputs": [],
   "source": [
    "hist(mtcars$mpg, xlab=\"Miles per Gallon\", main=\"Histogram of mpg\")\n",
    "ggplot(mtcars, aes(x=mpg)) + geom_histogram(bins=10) + labs(title=\"Histogram of mpg\", x=\"Miles per Gallon\")"
   ]
  },
  {
   "cell_type": "markdown",
   "metadata": {},
   "source": [
    "9. **Create a box plot of mpg grouped by cyl using base plotting system and ggplot2**"
   ]
  },
  {
   "cell_type": "code",
   "execution_count": null,
   "metadata": {},
   "outputs": [],
   "source": [
    "boxplot(mpg~cyl, data=mtcars, xlab=\"Number of Cylinders\", ylab=\"Miles per Gallon\", main=\"mpg grouped by cyl\")\n",
    "ggplot(mtcars, aes(x=factor(cyl), y=mpg)) + geom_boxplot() + labs(title=\"mpg grouped by cyl\", x=\"Number of Cylinders\", y=\"Miles per Gallon\")"
   ]
  },
  {
   "cell_type": "markdown",
   "metadata": {},
   "source": [
    "10. **Create a bar plot of the number of cars with different numbers of cylinders using base plotting system and ggplot2**"
   ]
  },
  {
   "cell_type": "code",
   "execution_count": null,
   "metadata": {},
   "outputs": [],
   "source": [
    "barplot(table(mtcars$cyl), xlab=\"Number of Cylinders\", ylab=\"Number of Cars\", main=\"Number of cars by cylinders\")\n",
    "ggplot(mtcars, aes(x=factor(cyl))) + geom_bar() + labs(title=\"Number of cars by cylinders\", x=\"Number of Cylinders\", y=\"Number of Cars\")"
   ]
  },
  {
   "cell_type": "markdown",
   "metadata": {},
   "source": [
    "11. **Create a line plot of mpg vs wt using base plotting system and ggplot2**"
   ]
  },
  {
   "cell_type": "code",
   "execution_count": null,
   "metadata": {},
   "outputs": [],
   "source": [
    "plot(mtcars$wt, mtcars$mpg, type=\"l\", xlab=\"Weight\", ylab=\"Miles per Gallon\", main=\"mpg vs wt\")\n",
    "ggplot(mtcars, aes(x=wt, y=mpg)) + geom_line() + labs(title=\"mpg vs wt\", x=\"Weight\", y=\"Miles per Gallon\")"
   ]
  },
  {
   "cell_type": "markdown",
   "metadata": {},
   "source": [
    "12. **Create a scatter plot of mpg vs wt with a regression line using ggplot2**"
   ]
  },
  {
   "cell_type": "code",
   "execution_count": null,
   "metadata": {},
   "outputs": [],
   "source": [
    "ggplot(mtcars, aes(x=wt, y=mpg)) + geom_point() + geom_smooth(method=\"lm\") + labs(title=\"mpg vs wt with regression line\", x=\"Weight\", y=\"Miles per Gallon\")"
   ]
  },
  {
   "cell_type": "markdown",
   "metadata": {},
   "source": [
    "13. **Create a scatter plot of mpg vs wt using ggplot2**"
   ]
  },
  {
   "cell_type": "code",
   "execution_count": null,
   "metadata": {},
   "outputs": [],
   "source": [
    "ggplot(mtcars, aes(x=wt, y=mpg)) + geom_point() + labs(title=\"mpg vs wt\", x=\"Weight\", y=\"Miles per Gallon\")"
   ]
  },
  {
   "cell_type": "markdown",
   "metadata": {},
   "source": [
    "14. **Create a box plot for mpg grouped by cyl using ggplot2**"
   ]
  },
  {
   "cell_type": "code",
   "execution_count": null,
   "metadata": {},
   "outputs": [],
   "source": [
    "ggplot(mtcars, aes(x=factor(cyl), y=mpg)) + geom_boxplot() + labs(title=\"mpg grouped by cyl\", x=\"Number of Cylinders\", y=\"Miles per Gallon\")"
   ]
  },
  {
   "cell_type": "markdown",
   "metadata": {},
   "source": [
    "15. **Create a box plot for mpg grouped by cyl using base R**"
   ]
  },
  {
   "cell_type": "code",
   "execution_count": null,
   "metadata": {},
   "outputs": [],
   "source": [
    "boxplot(mpg~cyl, data=mtcars, xlab=\"Number of Cylinders\", ylab=\"Miles per Gallon\", main=\"mpg grouped by cyl\")"
   ]
  },
  {
   "cell_type": "markdown",
   "metadata": {},
   "source": [
    "16. **Create a scatter plot of mpg vs wt with points colored by cyl and different shapes for gear using ggplot2**"
   ]
  },
  {
   "cell_type": "code",
   "execution_count": null,
   "metadata": {},
   "outputs": [],
   "source": [
    "ggplot(mtcars, aes(x=wt, y=mpg, color=factor(cyl), shape=factor(gear))) + geom_point() + labs(title=\"mpg vs wt colored by cyl and shaped by gear\", x=\"Weight\", y=\"Miles per Gallon\")"
   ]
  },
  {
   "cell_type": "markdown",
   "metadata": {},
   "source": [
    "17. **Create a scatter plot of mpg vs wt with custom title, axis labels, and subtitle using ggplot2**"
   ]
  },
  {
   "cell_type": "code",
   "execution_count": null,
   "metadata": {},
   "outputs": [],
   "source": [
    "ggplot(mtcars, aes(x=wt, y=mpg)) + geom_point() + labs(title=\"Scatter plot of mpg vs wt\", subtitle=\"Custom subtitle\", x=\"Weight\", y=\"Miles per Gallon\")"
   ]
  },
  {
   "cell_type": "markdown",
   "metadata": {},
   "source": [
    "18. **Calculate mean mpg for each number of cylinders using dplyr**"
   ]
  },
  {
   "cell_type": "code",
   "execution_count": null,
   "metadata": {},
   "outputs": [],
   "source": [
    "library(dplyr)\n",
    "mtcars %>% group_by(cyl) %>% summarise(mean_mpg=mean(mpg))"
   ]
  },
  {
   "cell_type": "markdown",
   "metadata": {},
   "source": [
    "19. **Create a bar plot of the number of cars for each cylinder count using ggplot2**"
   ]
  },
  {
   "cell_type": "code",
   "execution_count": null,
   "metadata": {},
   "outputs": [],
   "source": [
    "ggplot(mtcars, aes(x=factor(cyl))) + geom_bar() + labs(title=\"Number of cars by cylinders\", x=\"Number of Cylinders\", y=\"Number of Cars\")"
   ]
  },
  {
   "cell_type": "markdown",
   "metadata": {},
   "source": [
    "20. **Create a pie chart of the cylinder count using base R**"
   ]
  },
  {
   "cell_type": "code",
   "execution_count": null,
   "metadata": {},
   "outputs": [],
   "source": [
    "a<-table(mtcars$cyl)\n",
    "pie(a, main=\"Pie chart of cylinder counts\")"
   ]
  },
  {
   "cell_type": "markdown",
   "metadata": {},
   "source": [
    "21. **Create a histogram of mpg using ggplot2**"
   ]
  },
  {
   "cell_type": "code",
   "execution_count": null,
   "metadata": {},
   "outputs": [],
   "source": [
    "ggplot(mtcars, aes(x=mpg)) + geom_histogram(bins=10) + labs(title=\"Histogram of mpg\", x=\"Miles per Gallon\")"
   ]
  },
  {
   "cell_type": "markdown",
   "metadata": {},
   "source": [
    "22. **Create a boxplot of mpg grouped by cyl using ggplot2**"
   ]
  },
  {
   "cell_type": "code",
   "execution_count": null,
   "metadata": {},
   "outputs": [],
   "source": [
    "ggplot(mtcars, aes(x=factor(cyl), y=mpg)) + geom_boxplot() + labs(title=\"mpg grouped by cyl\", x=\"Number of Cylinders\", y=\"Miles per Gallon\")"
   ]
  },
  {
   "cell_type": "markdown",
   "metadata": {},
   "source": [
    "23. **Create a scatter plot of mpg vs wt colored by cyl using ggplot2**"
   ]
  },
  {
   "cell_type": "code",
   "execution_count": null,
   "metadata": {},
   "outputs": [],
   "source": [
    "ggplot(mtcars, aes(x=wt, y=mpg, color=factor(cyl))) + geom_point() + labs(title=\"mpg vs wt colored by cyl\", x=\"Weight\", y=\"Miles per Gallon\")"
   ]
  },
  {
   "cell_type": "markdown",
   "metadata": {},
   "source": [
    "24. **Create a scatter plot of mpg vs wt with customized legend using ggplot2**"
   ]
  },
  {
   "cell_type": "code",
   "execution_count": null,
   "metadata": {},
   "outputs": [],
   "source": [
    "ggplot(mtcars, aes(x=wt, y=mpg, color=factor(cyl))) + geom_point() + labs(title=\"mpg vs wt colored by cyl\", x=\"Weight\", y=\"Miles per Gallon\") + theme(legend.title=element_text(text=\"Cylinders\"), legend.position=\"bottom\")"
   ]
  },
  {
   "cell_type": "markdown",
   "metadata": {},
   "source": [
    "25. **Examine the mpg attribute in more detail**"
   ]
  },
  {
   "cell_type": "code",
   "execution_count": null,
   "metadata": {},
   "outputs": [],
   "source": [
    "a<-mtcars$mpg\n",
    "b<-mean(a)\n",
    "c<-var(a)\n",
    "d<-sd(a)\n",
    "print(b)\n",
    "print(c)\n",
    "print(d)\n",
    "boxplot(a, main=\"Boxplot of mpg\", ylab=\"Miles per Gallon\")\n",
    "e<-boxplot.stats(a)$out\n",
    "print(e)"
   ]
  },
  {
   "cell_type": "markdown",
   "metadata": {},
   "source": [
    "26. **Create a histogram for MPG using the MASS library**"
   ]
  },
  {
   "cell_type": "code",
   "execution_count": null,
   "metadata": {},
   "outputs": [],
   "source": [
    "install.packages(\"MASS\")\n",
    "library(MASS)\n",
    "truehist(a, nbins=10, main=\"Histogram of mpg\", xlab=\"Miles per Gallon\")"
   ]
  },
  {
   "cell_type": "markdown",
   "metadata": {},
   "source": [
    "27. **Examine the relationship between mpg and hp**"
   ]
  },
  {
   "cell_type": "code",
   "execution_count": null,
   "metadata": {},
   "outputs": [],
   "source": [
    "a<-mtcars$hp\n",
    "plot(a, b, xlab=\"Horsepower\", ylab=\"Miles per Gallon\", main=\"HP vs MPG\")\n",
    "c<-cor(a, b)\n",
    "print(c)"
   ]
  }
 ],
 "metadata": {
  "kernelspec": {
   "display_name": "R",
   "language": "R",
   "name": "ir"
  },
  "language_info": {
   "codemirror_mode": "r",
   "file_extension": ".r",
   "mimetype": "text/x-r-source",
   "name": "R",
   "pygments_lexer": "r",
   "version": "4.0.2"
  }
 },
 "nbformat": 4,
 "nbformat_minor": 2
}
